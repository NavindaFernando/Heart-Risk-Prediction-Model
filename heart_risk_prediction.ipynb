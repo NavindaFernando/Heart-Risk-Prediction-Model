{
 "cells": [
  {
   "cell_type": "code",
   "execution_count": 2,
   "id": "6cc04bc5",
   "metadata": {},
   "outputs": [
    {
     "name": "stdout",
     "output_type": "stream",
     "text": [
      "[[  1.   48.  236.  ...   1.    0.    1.1]\n",
      " [  0.   48.  260.  ...   1.    1.    7. ]\n",
      " [  0.   44.  187.  ...   1.    0.    7. ]\n",
      " ...\n",
      " [  0.   65.  212.  ...   0.    0.   30.6]\n",
      " [  0.   66.  184.  ...   0.    0.   23.8]\n",
      " [  1.   45.  203.  ...   1.    0.    1. ]] (6644, 8)\n"
     ]
    }
   ],
   "source": [
    "# load dataset\n",
    "\n",
    "import pandas as pd\n",
    "dataset = pd.read_csv('cardio_dataset.csv').values\n",
    "print(dataset,dataset.shape)"
   ]
  },
  {
   "cell_type": "code",
   "execution_count": 3,
   "id": "f6f605b6",
   "metadata": {},
   "outputs": [
    {
     "name": "stdout",
     "output_type": "stream",
     "text": [
      "data : [[  1.  48. 236. ...   0.   1.   0.]\n",
      " [  0.  48. 260. ...   0.   1.   1.]\n",
      " [  0.  44. 187. ...   1.   1.   0.]\n",
      " ...\n",
      " [  0.  65. 212. ...   1.   0.   0.]\n",
      " [  0.  66. 184. ...   0.   0.   0.]\n",
      " [  1.  45. 203. ...   0.   1.   0.]]\n",
      "target : [ 1.1  7.   7.  ... 30.6 23.8  1. ]\n"
     ]
    }
   ],
   "source": [
    "# taking the first seven column as the data and the last column as the target\n",
    "\n",
    "data = dataset[:,0:7]\n",
    "target = dataset[:,7]\n",
    "print('data :',data)\n",
    "print('target :',target)"
   ]
  },
  {
   "cell_type": "code",
   "execution_count": 6,
   "id": "c4e4e0ce",
   "metadata": {},
   "outputs": [],
   "source": [
    "# split data & target\n",
    "# test_size - 10% -> 664\n",
    "\n",
    "from sklearn.model_selection import train_test_split\n",
    "train_data,test_data,train_target,test_target=train_test_split(data,target,test_size=0.1) "
   ]
  },
  {
   "cell_type": "code",
   "execution_count": 8,
   "id": "88067be3",
   "metadata": {},
   "outputs": [
    {
     "data": {
      "text/html": [
       "<style>#sk-container-id-1 {color: black;background-color: white;}#sk-container-id-1 pre{padding: 0;}#sk-container-id-1 div.sk-toggleable {background-color: white;}#sk-container-id-1 label.sk-toggleable__label {cursor: pointer;display: block;width: 100%;margin-bottom: 0;padding: 0.3em;box-sizing: border-box;text-align: center;}#sk-container-id-1 label.sk-toggleable__label-arrow:before {content: \"▸\";float: left;margin-right: 0.25em;color: #696969;}#sk-container-id-1 label.sk-toggleable__label-arrow:hover:before {color: black;}#sk-container-id-1 div.sk-estimator:hover label.sk-toggleable__label-arrow:before {color: black;}#sk-container-id-1 div.sk-toggleable__content {max-height: 0;max-width: 0;overflow: hidden;text-align: left;background-color: #f0f8ff;}#sk-container-id-1 div.sk-toggleable__content pre {margin: 0.2em;color: black;border-radius: 0.25em;background-color: #f0f8ff;}#sk-container-id-1 input.sk-toggleable__control:checked~div.sk-toggleable__content {max-height: 200px;max-width: 100%;overflow: auto;}#sk-container-id-1 input.sk-toggleable__control:checked~label.sk-toggleable__label-arrow:before {content: \"▾\";}#sk-container-id-1 div.sk-estimator input.sk-toggleable__control:checked~label.sk-toggleable__label {background-color: #d4ebff;}#sk-container-id-1 div.sk-label input.sk-toggleable__control:checked~label.sk-toggleable__label {background-color: #d4ebff;}#sk-container-id-1 input.sk-hidden--visually {border: 0;clip: rect(1px 1px 1px 1px);clip: rect(1px, 1px, 1px, 1px);height: 1px;margin: -1px;overflow: hidden;padding: 0;position: absolute;width: 1px;}#sk-container-id-1 div.sk-estimator {font-family: monospace;background-color: #f0f8ff;border: 1px dotted black;border-radius: 0.25em;box-sizing: border-box;margin-bottom: 0.5em;}#sk-container-id-1 div.sk-estimator:hover {background-color: #d4ebff;}#sk-container-id-1 div.sk-parallel-item::after {content: \"\";width: 100%;border-bottom: 1px solid gray;flex-grow: 1;}#sk-container-id-1 div.sk-label:hover label.sk-toggleable__label {background-color: #d4ebff;}#sk-container-id-1 div.sk-serial::before {content: \"\";position: absolute;border-left: 1px solid gray;box-sizing: border-box;top: 0;bottom: 0;left: 50%;z-index: 0;}#sk-container-id-1 div.sk-serial {display: flex;flex-direction: column;align-items: center;background-color: white;padding-right: 0.2em;padding-left: 0.2em;position: relative;}#sk-container-id-1 div.sk-item {position: relative;z-index: 1;}#sk-container-id-1 div.sk-parallel {display: flex;align-items: stretch;justify-content: center;background-color: white;position: relative;}#sk-container-id-1 div.sk-item::before, #sk-container-id-1 div.sk-parallel-item::before {content: \"\";position: absolute;border-left: 1px solid gray;box-sizing: border-box;top: 0;bottom: 0;left: 50%;z-index: -1;}#sk-container-id-1 div.sk-parallel-item {display: flex;flex-direction: column;z-index: 1;position: relative;background-color: white;}#sk-container-id-1 div.sk-parallel-item:first-child::after {align-self: flex-end;width: 50%;}#sk-container-id-1 div.sk-parallel-item:last-child::after {align-self: flex-start;width: 50%;}#sk-container-id-1 div.sk-parallel-item:only-child::after {width: 0;}#sk-container-id-1 div.sk-dashed-wrapped {border: 1px dashed gray;margin: 0 0.4em 0.5em 0.4em;box-sizing: border-box;padding-bottom: 0.4em;background-color: white;}#sk-container-id-1 div.sk-label label {font-family: monospace;font-weight: bold;display: inline-block;line-height: 1.2em;}#sk-container-id-1 div.sk-label-container {text-align: center;}#sk-container-id-1 div.sk-container {/* jupyter's `normalize.less` sets `[hidden] { display: none; }` but bootstrap.min.css set `[hidden] { display: none !important; }` so we also need the `!important` here to be able to override the default hidden behavior on the sphinx rendered scikit-learn.org. See: https://github.com/scikit-learn/scikit-learn/issues/21755 */display: inline-block !important;position: relative;}#sk-container-id-1 div.sk-text-repr-fallback {display: none;}</style><div id=\"sk-container-id-1\" class=\"sk-top-container\"><div class=\"sk-text-repr-fallback\"><pre>LinearRegression()</pre><b>In a Jupyter environment, please rerun this cell to show the HTML representation or trust the notebook. <br />On GitHub, the HTML representation is unable to render, please try loading this page with nbviewer.org.</b></div><div class=\"sk-container\" hidden><div class=\"sk-item\"><div class=\"sk-estimator sk-toggleable\"><input class=\"sk-toggleable__control sk-hidden--visually\" id=\"sk-estimator-id-1\" type=\"checkbox\" checked><label for=\"sk-estimator-id-1\" class=\"sk-toggleable__label sk-toggleable__label-arrow\">LinearRegression</label><div class=\"sk-toggleable__content\"><pre>LinearRegression()</pre></div></div></div></div></div>"
      ],
      "text/plain": [
       "LinearRegression()"
      ]
     },
     "execution_count": 8,
     "metadata": {},
     "output_type": "execute_result"
    }
   ],
   "source": [
    "# import linear regression algorithm & traning\n",
    "\n",
    "from sklearn.linear_model import LinearRegression\n",
    "model=LinearRegression()\n",
    "model.fit(train_data,train_target)"
   ]
  },
  {
   "cell_type": "code",
   "execution_count": 9,
   "id": "562300c9",
   "metadata": {},
   "outputs": [
    {
     "name": "stdout",
     "output_type": "stream",
     "text": [
      "coef : [-4.9608175   0.72755695  0.02842219 -0.06864067  5.81082364 -5.0457016\n",
      " 11.21004719]\n",
      "a0 : -28.32020467594758\n"
     ]
    }
   ],
   "source": [
    "# get coef & intercept\n",
    "\n",
    "print('coef :',model.coef_)\n",
    "print('a0 :',model.intercept_)"
   ]
  },
  {
   "cell_type": "code",
   "execution_count": 10,
   "id": "930cabfd",
   "metadata": {},
   "outputs": [
    {
     "name": "stdout",
     "output_type": "stream",
     "text": [
      "665\n"
     ]
    }
   ],
   "source": [
    "# get predicted target\n",
    "\n",
    "predicted_target=model.predict(test_data)\n",
    "print(len(predicted_target))"
   ]
  },
  {
   "cell_type": "code",
   "execution_count": 11,
   "id": "68922893",
   "metadata": {},
   "outputs": [
    {
     "name": "stdout",
     "output_type": "stream",
     "text": [
      "Actual [30.8 21.3  9.8 10.6 36.7 14.2  0.5 14.9  6.6  4.7]\n",
      "Predicted [26.48901493 28.34724388  5.76444934 14.46734144 31.05719222 10.9768472\n",
      " -5.35819087 14.19199933  7.17504332  4.22074458]\n"
     ]
    }
   ],
   "source": [
    "# compear to actual_target & predicted_target\n",
    "\n",
    "print('Actual',test_target[:10])\n",
    "print('Predicted',predicted_target[:10])"
   ]
  },
  {
   "cell_type": "code",
   "execution_count": 12,
   "id": "35658de8",
   "metadata": {},
   "outputs": [
    {
     "name": "stdout",
     "output_type": "stream",
     "text": [
      "r2 : 0.7758478456698591\n"
     ]
    }
   ],
   "source": [
    "# apply r squared\n",
    "# import r score & get r score\n",
    "\n",
    "from sklearn.metrics import r2_score\n",
    "r2 = r2_score(test_target,predicted_target)\n",
    "print('r2 :',r2)"
   ]
  },
  {
   "cell_type": "code",
   "execution_count": 13,
   "id": "76f07dfe",
   "metadata": {},
   "outputs": [
    {
     "data": {
      "text/plain": [
       "['heart_risk_prediction_regression_model.sav']"
      ]
     },
     "execution_count": 13,
     "metadata": {},
     "output_type": "execute_result"
    }
   ],
   "source": [
    "# save model\n",
    "\n",
    "import joblib\n",
    "joblib.dump(model,'heart_risk_prediction_regression_model.sav')"
   ]
  },
  {
   "cell_type": "code",
   "execution_count": 25,
   "id": "62719a01",
   "metadata": {},
   "outputs": [
    {
     "name": "stdout",
     "output_type": "stream",
     "text": [
      "[23.36712289]\n"
     ]
    }
   ],
   "source": [
    "# get predictions\n",
    "\n",
    "test_data=[[0,52,240,72,1,1,1]]\n",
    "predicted_target=model.predict(test_data)\n",
    "print(predicted_target)"
   ]
  },
  {
   "cell_type": "code",
   "execution_count": null,
   "id": "5af56824",
   "metadata": {},
   "outputs": [],
   "source": []
  }
 ],
 "metadata": {
  "kernelspec": {
   "display_name": "Python 3 (ipykernel)",
   "language": "python",
   "name": "python3"
  },
  "language_info": {
   "codemirror_mode": {
    "name": "ipython",
    "version": 3
   },
   "file_extension": ".py",
   "mimetype": "text/x-python",
   "name": "python",
   "nbconvert_exporter": "python",
   "pygments_lexer": "ipython3",
   "version": "3.10.9"
  }
 },
 "nbformat": 4,
 "nbformat_minor": 5
}
